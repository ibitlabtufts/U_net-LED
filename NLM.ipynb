"""
https://scikit-image.org/docs/dev/auto_examples/filters/plot_nonlocal_means.html
Works well for random gaussian noise but not as good for salt and pepper
https://www.iro.umontreal.ca/~mignotte/IFT6150/Articles/Buades-NonLocal.pdf
The non-local means algorithm replaces the value of a pixel by an average 
of a selection of other pixels values: small patches centered on the other 
pixels are compared to the patch centered on the pixel of interest, and the 
average is performed only for pixels that have patches close to the current patch. 
"""
import numpy as np
from skimage import io, img_as_float
from skimage.restoration import denoise_nl_means, estimate_sigma

"""
When the fast_mode argument is False, a spatial Gaussian weighting is applied 
to the patches when computing patch distances. When fast_mode is True a 
faster algorithm employing uniform spatial weighting on the patches is applied.
Larger h allows more smoothing between disimilar patches.
"""

file_dir = "sample_data/test/"
save_dir = "sample_data/save/"

indx = 1;
for filename in os.listdir(file_dir):
    fl_name = os.path.join(file_dir,filename)
    noisy_img = img_as_float(io.imread(fl_name))
    sigma_est = np.mean(estimate_sigma(noisy_img, multichannel=True))
    NLM_denoise_img = denoise_nl_means(noisy_img, h=1.15 * sigma_est, fast_mode=True,
                                       patch_size=5, patch_distance=3, multichannel=False)
    save_name = os.path.join(save_dir,filename)
    io.imsave(save_name,(NLM_denoise_img))

!zip -r /content/sample_data/nlm.zip /content/sample_data/save
from google.colab import files
files.download("/content/sample_data/nlm.zip")
