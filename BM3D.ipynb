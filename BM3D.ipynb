!pip install bm3d
import matplotlib.pyplot as plt
from skimage import io, img_as_float
from skimage import img_as_ubyte
from skimage.metrics import peak_signal_noise_ratio
import numpy as np
import bm3d
from skimage.restoration import denoise_nl_means, estimate_sigma
import os

"""
sigma_psd - noise standard deviation
stage_arg: Determines whether to perform hard-thresholding or Wiener filtering.
stage_arg = BM3DStages.HARD_THRESHOLDING or BM3DStages.ALL_STAGES (slow but powerful)
All stages performs both hard thresholding and Wiener filtering. 
"""

file_dir = "sample_data/test/"
save_dir = "sample_data/save/"

indx = 1;
for filename in os.listdir(file_dir):
    fl_name = os.path.join(file_dir,filename)
    noisy_img = img_as_float(io.imread(fl_name))
    sigma_est = np.mean(estimate_sigma(noisy_img, multichannel=True))
    BM3D_denoised_image = bm3d.bm3d(noisy_img, sigma_psd = sigma_est, stage_arg=bm3d.BM3DStages.ALL_STAGES)
    save_name = os.path.join(save_dir,filename)
    io.imsave(save_name,(BM3D_denoised_image))

!zip -r /content/sample_data/bm3d_kidney_sigma_est.zip /content/sample_data/save
from google.colab import files
files.download("/content/sample_data/bm3d_kidney_sigma_est.zip")
